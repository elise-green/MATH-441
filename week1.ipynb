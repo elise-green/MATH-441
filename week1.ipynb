{
 "cells": [
  {
   "cell_type": "markdown",
   "metadata": {},
   "source": [
    "# Portfolio 1"
   ]
  },
  {
   "cell_type": "markdown",
   "metadata": {},
   "source": [
    "### Reflection\n",
    "\n",
    "- **What is mathematical optimization?**\n",
    "Mathematical optimization is the task of optimizing some equation with respect to a problem statement that contains certain fixed values and certain constraints. There are multiple types of optimization problems one of the subtypes of optimization problems is the difference between convex and non-convex optimization. Convex optimization problems are very special as any local maxima/minima also correspond to glabal maxima/minima. Non-convex optimization problems can be more complicated to work with as it is more difficult to determine of a local maxima/mimima is also the global maxima/minima. \n",
    "\n",
    "- **What kinds of optimization problems have you seen before ?**\n",
    "- I have seen a variety of optimization problems some of the optimization problems I have seen have been in math 340 the linear programming course, these problems were often solved using the simplex method. This class dealt solely with convex optimization problems as problems needed to be convex for linear programming to be applicable. In this class I was also able to create my own linear programming project. My project focused on minimizing food costs while maintaining neccessary nutrition constraints. \n",
    "- We also saw some optimization problems in math 100 and 200. I believe that the largrange multiplier unit was focused on finding the maximum or minimum values of some function. \n",
    "- I have also done optimization in some of my computer science courses this usual running some algorithms on graphs to find the shortest paths or similar problems, I believe that most of the problems I worked on in the computer science realm were interger programming problems. Such as finding the shortest path or minimum vertex cover problem etc. I also know that a lot of machine learning is based off of optimization but we did not learn directly what functions were being optimized. \n",
    "\n",
    "- **What is Mathematical Modelling**\n",
    "To me mathematical modelling is a way to formulate real world problems as mathematical statements. Mathematical modelling is a whole process that combines the use of real world data, scientific laws, and mathematical theory to best describe real-world phemonema as accurately as possible. Mathematical modelling is usual a whole process of creating a problem statement then aquiring the appropriate data an equations to approximate solutions. \n",
    "\n",
    "- **What topics are you intersted in ?** \n",
    "In general I would be open to explore lots of different areas of optimization. I am specifically interested in a couple different areas , one of my biggest interests is how optimization is used in data-driven applications such as machine-learning. One of the other areas I am interested in is combinatorial problems and how to optimize games such as sudoku and chess. I would also be interested in learning more about if there are any new finding in the realm of optimization. \n",
    "\n",
    "- **What do you hope to get out of this course?**\n",
    "I am hoping to get a couple things out of this course. Firstly, I hope to gain a deeper understanding of optimization problems in general. I would also really like to gain some skills that would be useful for applying math in a job. I think one  skill that is important for this is being able to simplify and clearly explain to others about the work that you are doing in written and in verbal communication. Another skill that I really hope do develop further is turning real-life problems into math problems which can be clearly modelled. A skill that goes along with this is utilizing technical tools such as python to implement solutions which are well documented and use good coding practices. Lastly I would like to explore areas that are exciting to me and I hope this brings to find more areas in applied math that I am interested in. "
   ]
  }
 ],
 "metadata": {
  "language_info": {
   "name": "python"
  }
 },
 "nbformat": 4,
 "nbformat_minor": 2
}

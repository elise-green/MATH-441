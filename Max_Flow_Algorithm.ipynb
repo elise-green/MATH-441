{
 "cells": [
  {
   "attachments": {},
   "cell_type": "markdown",
   "metadata": {},
   "source": [
    "#  Portfolio 2\n"
   ]
  },
  {
   "attachments": {},
   "cell_type": "markdown",
   "metadata": {},
   "source": [
    "I am also learning about network flows in one of my other computer science courses right now so I thought it would be intersting to implement an algorithm to find the max flow and then compare how this algorithm works vs formatting the problem as a classic lp-problem"
   ]
  },
  {
   "attachments": {},
   "cell_type": "markdown",
   "metadata": {},
   "source": [
    "## Ford-Fulkerson Algorithm \n",
    " Is an algorithm to find the max-flow of a network.\n",
    " The ford fulkerson algorithm is an iterative method to find the max flow of a graph that contains a source and a sink and has capacity constraints for every edge on the graph. Like every max-flow problem we have to have flow conservation at each of the nodes except for the source and sink nodes. In my description of the problem and algorithm below I will talk about the source node as `s` and the sink node as `t`. \n",
    "\n",
    " The general idea of the algorithm is of we can find a path from s to t such that the capacity of all the edges along the path are  > 0 then we will push the maximum amount of flow from s to t such that the flow is less than or equal to the capacity for each edge along the path. This is where the idea of a residual network comes in. The residual network is the network that represents the capacities of the graph after we push some flow from s to t. So when we push a flow of f from s to t we will subtract f from the capacity of each of the edges that we pushed and we will add f in the reverse direction to each of the edges. To better understand this I will give a simple example. Image we have a graph with only s and t nodes and we have a capacity of 5 along the edge from s to t, the max-flow we can push will be 5, so the residual graph will the edge from s to t with a value of 0 and the edge from t to s with a value of 5. After we have found the residual network we will repeat the step of finding a path from s to t on the residual network and pushing the maximum amount of flow along the path. We will continue to repeat until we can no longer find a path from s to t and then we know we have reached our maximum flow. "
   ]
  },
  {
   "cell_type": "code",
   "execution_count": 83,
   "metadata": {},
   "outputs": [],
   "source": [
    "import numpy as np\n",
    "import networkx as nx\n",
    "from typing import Dict, List\n",
    "import cvxpy as cp\n",
    "import timeit"
   ]
  },
  {
   "attachments": {},
   "cell_type": "markdown",
   "metadata": {},
   "source": [
    "In our algorithm we have a need to find if there is a path from s to t so we can use  a version of breadth first search. \n",
    "\n",
    "\n",
    "Breadth first search implementation ideas:\n",
    "For our version of BFS we not only want to find out if there is a path that exists from s to t but we also want to  make sure that all of the edges of our path have a capacity that is greater than 0. \n",
    "So how we will do this is we will start on our starting vertex we will then check it neighbors that have the proper edge weights if they do then they will be up next on the queue then we will take the first element in the queue after checking all adjancent vertices and do the same for that vertex adding every adjacent vertex to the queue if it follows the edge constraint, we will continue until we find the t vertex or all the vertices have been visited."
   ]
  },
  {
   "cell_type": "code",
   "execution_count": 86,
   "metadata": {},
   "outputs": [],
   "source": [
    "def bfs(graph: Dict[str, Dict[str, int]], s: str, t: str) -> List[str]:\n",
    "    visited = []\n",
    "    queue = [[s]]\n",
    "    \n",
    "    while queue:\n",
    "        path = queue.pop(0)\n",
    "        node = path[-1]\n",
    "        if node == t:\n",
    "            return path\n",
    "        if node not in visited:\n",
    "            visited.append(node)\n",
    "            children = [child for child, edge_value in graph[node].items() if edge_value > 0]\n",
    "            for child in children:\n",
    "                new_path = list(path)\n",
    "                new_path.append(child)\n",
    "                queue.append(new_path)\n",
    "\n",
    "    return []"
   ]
  },
  {
   "cell_type": "code",
   "execution_count": 16,
   "metadata": {},
   "outputs": [
    {
     "data": {
      "text/plain": [
       "['A', 'B', 'E']"
      ]
     },
     "execution_count": 16,
     "metadata": {},
     "output_type": "execute_result"
    }
   ],
   "source": [
    "example_graph = {\n",
    "    'A': {'B': 10, 'C': 5},\n",
    "    'B': {'D': 15, 'E': 10},\n",
    "    'C': {'D': 5, 'E': 15},\n",
    "    'D': {},\n",
    "    'E': {},\n",
    "    'F': {},  # 'F' has no outgoing edges\n",
    "}\n",
    "\n",
    "bfs(example_graph, 'A', 'E')"
   ]
  },
  {
   "cell_type": "markdown",
   "metadata": {},
   "source": [
    "As described at the beginning we will now implement the ford-fulkerson algorithm.\n",
    "\n",
    "We will use a recursive approach for this algorithm, first we will start by setting the max-flow to 0 as we have no flow when the graph starts."
   ]
  },
  {
   "cell_type": "code",
   "execution_count": 87,
   "metadata": {},
   "outputs": [],
   "source": [
    "from typing import Dict, List\n",
    "\n",
    "def ford_fulkerson(graph: Dict[str, Dict[str, int]], source: str, sink: str) -> int:\n",
    "    # initialize the flow to 0\n",
    "    max_flow = 0\n",
    "    #determine if there is a path from s to t\n",
    "    path = bfs(graph, source, sink)\n",
    "    if not path: \n",
    "        # if there is no such path that exists return the max_flow\n",
    "        return  max_flow\n",
    "    else:\n",
    "        # set the path flow to be infinity this is just a large placeholder value\n",
    "        path_flow = np.inf\n",
    "        # for each edge along the path from s to t find the minimum capacity and set the path_flow to that value\n",
    "        for i in range(len(path) -1):\n",
    "            path_flow = min(path_flow, graph[path[i]][path[i+1]])\n",
    "        \n",
    "        # create the residual graph and add the path flow to the total flow\n",
    "        for i in range(len(path) -1):\n",
    "            graph[path[i]][path[i+1]] = graph[path[i]][path[i+1]] - path_flow \n",
    "            graph[path[i+1]][path[i]] = graph[path[i+1]][path[i]] + path_flow\n",
    "        max_flow += path_flow\n",
    "    # return the max_flow and add the flow which you can get from the residual netwrok. \n",
    "    return max_flow + ford_fulkerson(graph, source, sink )\n",
    "\n"
   ]
  },
  {
   "cell_type": "code",
   "execution_count": 88,
   "metadata": {},
   "outputs": [
    {
     "data": {
      "text/plain": [
       "['s', 'a', 'c', 't']"
      ]
     },
     "execution_count": 88,
     "metadata": {},
     "output_type": "execute_result"
    }
   ],
   "source": [
    "graph = {\n",
    "    's': {'a': 10, 'b': 5, 'c': 0, 'd': 0, 't': 0},\n",
    "    'a': {'s': 0, 'b': 15, 'c': 10, 'd': 0, 't': 0},\n",
    "    'b': {'s': 0, 'a': 0, 'c': 0, 'd': 5, 't': 0},\n",
    "    'c': {'s': 0, 'a': 0, 'b': 0, 'd': 0, 't': 10},\n",
    "    'd': {'s': 0, 'a': 0, 'b': 0, 'c': 5, 't': 10},\n",
    "    't': {'s': 0, 'a': 0, 'b': 0, 'c': 0, 'd': 0}\n",
    "}\n",
    "\n",
    "bfs(graph, 's', 't')"
   ]
  },
  {
   "cell_type": "code",
   "execution_count": 53,
   "metadata": {},
   "outputs": [
    {
     "data": {
      "text/plain": [
       "15"
      ]
     },
     "execution_count": 53,
     "metadata": {},
     "output_type": "execute_result"
    }
   ],
   "source": [
    "\n",
    "ford_fulkerson(graph, 's', 't')"
   ]
  },
  {
   "cell_type": "code",
   "execution_count": 103,
   "metadata": {},
   "outputs": [
    {
     "data": {
      "text/plain": [
       "1.172899646917358e-05"
      ]
     },
     "execution_count": 103,
     "metadata": {},
     "output_type": "execute_result"
    }
   ],
   "source": [
    "ff = timeit.timeit(lambda: ford_fulkerson(graph, 's', 't'), number=1)\n",
    "ff"
   ]
  },
  {
   "cell_type": "code",
   "execution_count": 79,
   "metadata": {},
   "outputs": [
    {
     "data": {
      "text/plain": [
       "array([[ 0,  0,  0,  0,  0,  0],\n",
       "       [10,  0,  0,  0,  0,  0],\n",
       "       [ 5, 15,  0,  0,  0,  0],\n",
       "       [ 0, 10,  0,  0,  5,  0],\n",
       "       [ 0,  0,  5,  0,  0,  0],\n",
       "       [ 0,  0,  0, 10, 10,  0]])"
      ]
     },
     "execution_count": 79,
     "metadata": {},
     "output_type": "execute_result"
    }
   ],
   "source": [
    "adjacency_matrix =  np.array([\n",
    "    [0, 10, 5, 0, 0, 0],\n",
    "    [0, 0, 15, 10, 0, 0],\n",
    "    [0, 0, 0, 0, 5, 0],\n",
    "    [0, 0, 0, 0, 0, 10],\n",
    "    [0, 0, 0, 5, 0, 10],\n",
    "    [0, 0, 0, 0, 0, 0]\n",
    "])\n",
    "\n",
    "adjacency_matrix.T"
   ]
  },
  {
   "cell_type": "markdown",
   "metadata": {},
   "source": [
    "Now that we have our max-flow value for the graph above with the ford-fulkerson algorithm. Let's try to set up the problem as a classic linear programming problem. \n",
    "\n",
    "Our objective function will be to maximize the flow out of the source node s. We can write this as \n",
    "\n",
    " maximize $ \\sum_{v} f(s,v) - f(v,s) $\n",
    " subject to the constraints.\n",
    "\n",
    " - the flow into each node must equal the flow out. \n",
    "-  the flow through each edge must be less than the capacity\n",
    "\n",
    "let' s define this as an lp problem and solve it using cvxpy\n",
    " "
   ]
  },
  {
   "cell_type": "code",
   "execution_count": 82,
   "metadata": {},
   "outputs": [
    {
     "name": "stderr",
     "output_type": "stream",
     "text": [
      "/Users/elisegreen/opt/anaconda3/envs/dsci430/lib/python3.10/site-packages/cvxpy/reductions/solvers/solving_chain.py:336: FutureWarning: \n",
      "    Your problem is being solved with the ECOS solver by default. Starting in \n",
      "    CVXPY 1.5.0, Clarabel will be used as the default solver instead. To continue \n",
      "    using ECOS, specify the ECOS solver explicitly using the ``solver=cp.ECOS`` \n",
      "    argument to the ``problem.solve`` method.\n",
      "    \n",
      "  warnings.warn(ECOS_DEPRECATION_MSG, FutureWarning)\n"
     ]
    },
    {
     "data": {
      "text/plain": [
       "15.000000000418883"
      ]
     },
     "execution_count": 82,
     "metadata": {},
     "output_type": "execute_result"
    }
   ],
   "source": [
    "flow = cp.Variable((len(adjacency_matrix), len(adjacency_matrix)))\n",
    "obj = cp.Maximize(cp.sum(flow[0]))\n",
    "constraints = []\n",
    "for i in range(len(adjacency_matrix)):\n",
    "    for j in range(len(adjacency_matrix)):\n",
    "        summed_column = 0\n",
    "        constraints.append(flow[i][j] <= adjacency_matrix[i][j])\n",
    "        summed_column += flow[j][i]\n",
    "   \n",
    "\n",
    "for i in range(1, len(adjacency_matrix)-2):\n",
    "    summed_column = 0\n",
    "    for j in range(1, len(adjacency_matrix) -2):\n",
    "        summed_column += flow[j][i]\n",
    "    summed_row = cp.sum(flow[i])\n",
    "    constraints.append(summed_row == summed_column)\n",
    "\n",
    "prob = cp.Problem(obj, constraints)\n",
    "prob.solve()"
   ]
  },
  {
   "cell_type": "code",
   "execution_count": 105,
   "metadata": {},
   "outputs": [
    {
     "data": {
      "text/plain": [
       "0.003266074003477115"
      ]
     },
     "execution_count": 105,
     "metadata": {},
     "output_type": "execute_result"
    }
   ],
   "source": [
    "lp =timeit.timeit(lambda: prob.solve(), number = 1)\n",
    "lp"
   ]
  },
  {
   "cell_type": "code",
   "execution_count": 107,
   "metadata": {},
   "outputs": [
    {
     "data": {
      "text/plain": [
       "278.46150453374986"
      ]
     },
     "execution_count": 107,
     "metadata": {},
     "output_type": "execute_result"
    }
   ],
   "source": [
    "lp/ff"
   ]
  },
  {
   "cell_type": "markdown",
   "metadata": {},
   "source": [
    "**Conclusion**\n",
    "As we can see both ways of solving the max-flow problem give us equivalent solutions. I also was curious to see if there was much of a difference in the time it took for each algorithm to run so I used the time-it function to track the total time each function ran for and I found that the ford-fulkerson algorithm was a bit quicker as it was 1.17e-05 s for it to run vs the linear programming approach took 0.0033s to run so the lp took approximatly 280 times longer to run which is a fair amount longer. This does make some sense as we know that when we use BFS to find the paths in the ford-fulkerson the total runtime must be $O(V E^2)$ where V is the number of vertices and E is the number of edges. However, LP problems have an exponential bound on running time but do tend to converge much faster than that usually and in some cases where there may be a lot of edges in a graph the LP may be quicker. "
   ]
  },
  {
   "cell_type": "markdown",
   "metadata": {},
   "source": [
    "**What I learned**\n",
    "In this learning portfolio I learned how to implement two different strategies for solving max-flow problems.  This took some tough thinking to implement the algorithms even though I was already familiar with the ford-fulkerson algorithm I found that actually implementing it was difficult but it helped to cement my understanding. I think that it was interesting to explore a problem that can very easily be formatted as a linear programming problem be formatted in a different type of algorithm."
   ]
  }
 ],
 "metadata": {
  "kernelspec": {
   "display_name": "dsci430",
   "language": "python",
   "name": "python3"
  },
  "language_info": {
   "codemirror_mode": {
    "name": "ipython",
    "version": 3
   },
   "file_extension": ".py",
   "mimetype": "text/x-python",
   "name": "python",
   "nbconvert_exporter": "python",
   "pygments_lexer": "ipython3",
   "version": "3.10.12"
  },
  "orig_nbformat": 4,
  "vscode": {
   "interpreter": {
    "hash": "8a5edab282632443219e051e4ade2d1d5bbc671c781051bf1437897cbdfea0f1"
   }
  }
 },
 "nbformat": 4,
 "nbformat_minor": 2
}
